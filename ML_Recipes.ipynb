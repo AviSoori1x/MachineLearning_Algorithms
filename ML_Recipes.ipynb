{
 "cells": [
  {
   "cell_type": "code",
   "execution_count": 1,
   "metadata": {},
   "outputs": [],
   "source": [
    "import sklearn"
   ]
  },
  {
   "cell_type": "code",
   "execution_count": 2,
   "metadata": {},
   "outputs": [],
   "source": [
    "features = [[140,'smooth'],[130, 'smooth'],[150, 'bumpy'],[170, 'bumpy']]\n",
    "labels = ['apple', 'apple', 'orange', 'orange']"
   ]
  },
  {
   "cell_type": "code",
   "execution_count": 3,
   "metadata": {},
   "outputs": [],
   "source": [
    "#Convert all inputs to inputs, so 0 for bumpy and 1 for smooth\n",
    "features = [[140,1],[130, 1],[150, 0],[170, 0]]"
   ]
  },
  {
   "cell_type": "code",
   "execution_count": 4,
   "metadata": {},
   "outputs": [],
   "source": [
    "#Same for labels, 0 for Apple and 1 for Orange\n",
    "labels = [0,0,1,1]"
   ]
  },
  {
   "cell_type": "code",
   "execution_count": 6,
   "metadata": {},
   "outputs": [],
   "source": [
    "from sklearn import tree\n",
    "clf = tree.DecisionTreeClassifier()"
   ]
  },
  {
   "cell_type": "code",
   "execution_count": 7,
   "metadata": {},
   "outputs": [],
   "source": [
    "#fit is the classifier algorithm, which is contained in the classifier object \n",
    "clf = clf.fit(features, labels)"
   ]
  },
  {
   "cell_type": "code",
   "execution_count": 10,
   "metadata": {},
   "outputs": [
    {
     "name": "stdout",
     "output_type": "stream",
     "text": [
      "[1]\n"
     ]
    }
   ],
   "source": [
    "print(clf.predict([[150,0]]))"
   ]
  },
  {
   "cell_type": "code",
   "execution_count": 11,
   "metadata": {},
   "outputs": [],
   "source": [
    "#Implementing decision tree classifier with Iris dataset\n",
    "from sklearn.datasets import load_iris\n",
    "iris = load_iris()\n",
    "#This loads both the data -from wiki table and metadata- names of features and names of different flower types \n",
    "#This is seen below"
   ]
  },
  {
   "cell_type": "code",
   "execution_count": 12,
   "metadata": {},
   "outputs": [
    {
     "name": "stdout",
     "output_type": "stream",
     "text": [
      "['sepal length (cm)', 'sepal width (cm)', 'petal length (cm)', 'petal width (cm)']\n",
      "['setosa' 'versicolor' 'virginica']\n"
     ]
    }
   ],
   "source": [
    "print(iris.feature_names)\n",
    "print(iris.target_names)"
   ]
  },
  {
   "cell_type": "code",
   "execution_count": 14,
   "metadata": {},
   "outputs": [
    {
     "name": "stdout",
     "output_type": "stream",
     "text": [
      "[5.1 3.5 1.4 0.2]\n"
     ]
    }
   ],
   "source": [
    "#Features and examples themselves are contained in the data variable which can be accessed as below \n",
    "print(iris.data[0])\n",
    "#These values are in the order ['sepal length (cm)', 'sepal width (cm)', 'petal length (cm)', 'petal width (cm)']"
   ]
  },
  {
   "cell_type": "code",
   "execution_count": 15,
   "metadata": {},
   "outputs": [
    {
     "name": "stdout",
     "output_type": "stream",
     "text": [
      "0\n"
     ]
    }
   ],
   "source": [
    "#The corresponding target or dependent variable is as follows\n",
    "print(iris.target[0])"
   ]
  },
  {
   "cell_type": "code",
   "execution_count": 17,
   "metadata": {},
   "outputs": [
    {
     "name": "stdout",
     "output_type": "stream",
     "text": [
      "Exampled 0: label [5.1 3.5 1.4 0.2], Feature 0\n",
      "Exampled 1: label [4.9 3.  1.4 0.2], Feature 0\n",
      "Exampled 2: label [4.7 3.2 1.3 0.2], Feature 0\n",
      "Exampled 3: label [4.6 3.1 1.5 0.2], Feature 0\n",
      "Exampled 4: label [5.  3.6 1.4 0.2], Feature 0\n",
      "Exampled 5: label [5.4 3.9 1.7 0.4], Feature 0\n",
      "Exampled 6: label [4.6 3.4 1.4 0.3], Feature 0\n",
      "Exampled 7: label [5.  3.4 1.5 0.2], Feature 0\n",
      "Exampled 8: label [4.4 2.9 1.4 0.2], Feature 0\n",
      "Exampled 9: label [4.9 3.1 1.5 0.1], Feature 0\n",
      "Exampled 10: label [5.4 3.7 1.5 0.2], Feature 0\n",
      "Exampled 11: label [4.8 3.4 1.6 0.2], Feature 0\n",
      "Exampled 12: label [4.8 3.  1.4 0.1], Feature 0\n",
      "Exampled 13: label [4.3 3.  1.1 0.1], Feature 0\n",
      "Exampled 14: label [5.8 4.  1.2 0.2], Feature 0\n",
      "Exampled 15: label [5.7 4.4 1.5 0.4], Feature 0\n",
      "Exampled 16: label [5.4 3.9 1.3 0.4], Feature 0\n",
      "Exampled 17: label [5.1 3.5 1.4 0.3], Feature 0\n",
      "Exampled 18: label [5.7 3.8 1.7 0.3], Feature 0\n",
      "Exampled 19: label [5.1 3.8 1.5 0.3], Feature 0\n",
      "Exampled 20: label [5.4 3.4 1.7 0.2], Feature 0\n",
      "Exampled 21: label [5.1 3.7 1.5 0.4], Feature 0\n",
      "Exampled 22: label [4.6 3.6 1.  0.2], Feature 0\n",
      "Exampled 23: label [5.1 3.3 1.7 0.5], Feature 0\n",
      "Exampled 24: label [4.8 3.4 1.9 0.2], Feature 0\n",
      "Exampled 25: label [5.  3.  1.6 0.2], Feature 0\n",
      "Exampled 26: label [5.  3.4 1.6 0.4], Feature 0\n",
      "Exampled 27: label [5.2 3.5 1.5 0.2], Feature 0\n",
      "Exampled 28: label [5.2 3.4 1.4 0.2], Feature 0\n",
      "Exampled 29: label [4.7 3.2 1.6 0.2], Feature 0\n",
      "Exampled 30: label [4.8 3.1 1.6 0.2], Feature 0\n",
      "Exampled 31: label [5.4 3.4 1.5 0.4], Feature 0\n",
      "Exampled 32: label [5.2 4.1 1.5 0.1], Feature 0\n",
      "Exampled 33: label [5.5 4.2 1.4 0.2], Feature 0\n",
      "Exampled 34: label [4.9 3.1 1.5 0.1], Feature 0\n",
      "Exampled 35: label [5.  3.2 1.2 0.2], Feature 0\n",
      "Exampled 36: label [5.5 3.5 1.3 0.2], Feature 0\n",
      "Exampled 37: label [4.9 3.1 1.5 0.1], Feature 0\n",
      "Exampled 38: label [4.4 3.  1.3 0.2], Feature 0\n",
      "Exampled 39: label [5.1 3.4 1.5 0.2], Feature 0\n",
      "Exampled 40: label [5.  3.5 1.3 0.3], Feature 0\n",
      "Exampled 41: label [4.5 2.3 1.3 0.3], Feature 0\n",
      "Exampled 42: label [4.4 3.2 1.3 0.2], Feature 0\n",
      "Exampled 43: label [5.  3.5 1.6 0.6], Feature 0\n",
      "Exampled 44: label [5.1 3.8 1.9 0.4], Feature 0\n",
      "Exampled 45: label [4.8 3.  1.4 0.3], Feature 0\n",
      "Exampled 46: label [5.1 3.8 1.6 0.2], Feature 0\n",
      "Exampled 47: label [4.6 3.2 1.4 0.2], Feature 0\n",
      "Exampled 48: label [5.3 3.7 1.5 0.2], Feature 0\n",
      "Exampled 49: label [5.  3.3 1.4 0.2], Feature 0\n",
      "Exampled 50: label [7.  3.2 4.7 1.4], Feature 1\n",
      "Exampled 51: label [6.4 3.2 4.5 1.5], Feature 1\n",
      "Exampled 52: label [6.9 3.1 4.9 1.5], Feature 1\n",
      "Exampled 53: label [5.5 2.3 4.  1.3], Feature 1\n",
      "Exampled 54: label [6.5 2.8 4.6 1.5], Feature 1\n",
      "Exampled 55: label [5.7 2.8 4.5 1.3], Feature 1\n",
      "Exampled 56: label [6.3 3.3 4.7 1.6], Feature 1\n",
      "Exampled 57: label [4.9 2.4 3.3 1. ], Feature 1\n",
      "Exampled 58: label [6.6 2.9 4.6 1.3], Feature 1\n",
      "Exampled 59: label [5.2 2.7 3.9 1.4], Feature 1\n",
      "Exampled 60: label [5.  2.  3.5 1. ], Feature 1\n",
      "Exampled 61: label [5.9 3.  4.2 1.5], Feature 1\n",
      "Exampled 62: label [6.  2.2 4.  1. ], Feature 1\n",
      "Exampled 63: label [6.1 2.9 4.7 1.4], Feature 1\n",
      "Exampled 64: label [5.6 2.9 3.6 1.3], Feature 1\n",
      "Exampled 65: label [6.7 3.1 4.4 1.4], Feature 1\n",
      "Exampled 66: label [5.6 3.  4.5 1.5], Feature 1\n",
      "Exampled 67: label [5.8 2.7 4.1 1. ], Feature 1\n",
      "Exampled 68: label [6.2 2.2 4.5 1.5], Feature 1\n",
      "Exampled 69: label [5.6 2.5 3.9 1.1], Feature 1\n",
      "Exampled 70: label [5.9 3.2 4.8 1.8], Feature 1\n",
      "Exampled 71: label [6.1 2.8 4.  1.3], Feature 1\n",
      "Exampled 72: label [6.3 2.5 4.9 1.5], Feature 1\n",
      "Exampled 73: label [6.1 2.8 4.7 1.2], Feature 1\n",
      "Exampled 74: label [6.4 2.9 4.3 1.3], Feature 1\n",
      "Exampled 75: label [6.6 3.  4.4 1.4], Feature 1\n",
      "Exampled 76: label [6.8 2.8 4.8 1.4], Feature 1\n",
      "Exampled 77: label [6.7 3.  5.  1.7], Feature 1\n",
      "Exampled 78: label [6.  2.9 4.5 1.5], Feature 1\n",
      "Exampled 79: label [5.7 2.6 3.5 1. ], Feature 1\n",
      "Exampled 80: label [5.5 2.4 3.8 1.1], Feature 1\n",
      "Exampled 81: label [5.5 2.4 3.7 1. ], Feature 1\n",
      "Exampled 82: label [5.8 2.7 3.9 1.2], Feature 1\n",
      "Exampled 83: label [6.  2.7 5.1 1.6], Feature 1\n",
      "Exampled 84: label [5.4 3.  4.5 1.5], Feature 1\n",
      "Exampled 85: label [6.  3.4 4.5 1.6], Feature 1\n",
      "Exampled 86: label [6.7 3.1 4.7 1.5], Feature 1\n",
      "Exampled 87: label [6.3 2.3 4.4 1.3], Feature 1\n",
      "Exampled 88: label [5.6 3.  4.1 1.3], Feature 1\n",
      "Exampled 89: label [5.5 2.5 4.  1.3], Feature 1\n",
      "Exampled 90: label [5.5 2.6 4.4 1.2], Feature 1\n",
      "Exampled 91: label [6.1 3.  4.6 1.4], Feature 1\n",
      "Exampled 92: label [5.8 2.6 4.  1.2], Feature 1\n",
      "Exampled 93: label [5.  2.3 3.3 1. ], Feature 1\n",
      "Exampled 94: label [5.6 2.7 4.2 1.3], Feature 1\n",
      "Exampled 95: label [5.7 3.  4.2 1.2], Feature 1\n",
      "Exampled 96: label [5.7 2.9 4.2 1.3], Feature 1\n",
      "Exampled 97: label [6.2 2.9 4.3 1.3], Feature 1\n",
      "Exampled 98: label [5.1 2.5 3.  1.1], Feature 1\n",
      "Exampled 99: label [5.7 2.8 4.1 1.3], Feature 1\n",
      "Exampled 100: label [6.3 3.3 6.  2.5], Feature 2\n",
      "Exampled 101: label [5.8 2.7 5.1 1.9], Feature 2\n",
      "Exampled 102: label [7.1 3.  5.9 2.1], Feature 2\n",
      "Exampled 103: label [6.3 2.9 5.6 1.8], Feature 2\n",
      "Exampled 104: label [6.5 3.  5.8 2.2], Feature 2\n",
      "Exampled 105: label [7.6 3.  6.6 2.1], Feature 2\n",
      "Exampled 106: label [4.9 2.5 4.5 1.7], Feature 2\n",
      "Exampled 107: label [7.3 2.9 6.3 1.8], Feature 2\n",
      "Exampled 108: label [6.7 2.5 5.8 1.8], Feature 2\n",
      "Exampled 109: label [7.2 3.6 6.1 2.5], Feature 2\n",
      "Exampled 110: label [6.5 3.2 5.1 2. ], Feature 2\n",
      "Exampled 111: label [6.4 2.7 5.3 1.9], Feature 2\n",
      "Exampled 112: label [6.8 3.  5.5 2.1], Feature 2\n",
      "Exampled 113: label [5.7 2.5 5.  2. ], Feature 2\n",
      "Exampled 114: label [5.8 2.8 5.1 2.4], Feature 2\n",
      "Exampled 115: label [6.4 3.2 5.3 2.3], Feature 2\n",
      "Exampled 116: label [6.5 3.  5.5 1.8], Feature 2\n",
      "Exampled 117: label [7.7 3.8 6.7 2.2], Feature 2\n",
      "Exampled 118: label [7.7 2.6 6.9 2.3], Feature 2\n",
      "Exampled 119: label [6.  2.2 5.  1.5], Feature 2\n",
      "Exampled 120: label [6.9 3.2 5.7 2.3], Feature 2\n",
      "Exampled 121: label [5.6 2.8 4.9 2. ], Feature 2\n",
      "Exampled 122: label [7.7 2.8 6.7 2. ], Feature 2\n",
      "Exampled 123: label [6.3 2.7 4.9 1.8], Feature 2\n",
      "Exampled 124: label [6.7 3.3 5.7 2.1], Feature 2\n",
      "Exampled 125: label [7.2 3.2 6.  1.8], Feature 2\n",
      "Exampled 126: label [6.2 2.8 4.8 1.8], Feature 2\n",
      "Exampled 127: label [6.1 3.  4.9 1.8], Feature 2\n",
      "Exampled 128: label [6.4 2.8 5.6 2.1], Feature 2\n",
      "Exampled 129: label [7.2 3.  5.8 1.6], Feature 2\n",
      "Exampled 130: label [7.4 2.8 6.1 1.9], Feature 2\n",
      "Exampled 131: label [7.9 3.8 6.4 2. ], Feature 2\n",
      "Exampled 132: label [6.4 2.8 5.6 2.2], Feature 2\n",
      "Exampled 133: label [6.3 2.8 5.1 1.5], Feature 2\n",
      "Exampled 134: label [6.1 2.6 5.6 1.4], Feature 2\n",
      "Exampled 135: label [7.7 3.  6.1 2.3], Feature 2\n",
      "Exampled 136: label [6.3 3.4 5.6 2.4], Feature 2\n",
      "Exampled 137: label [6.4 3.1 5.5 1.8], Feature 2\n",
      "Exampled 138: label [6.  3.  4.8 1.8], Feature 2\n",
      "Exampled 139: label [6.9 3.1 5.4 2.1], Feature 2\n",
      "Exampled 140: label [6.7 3.1 5.6 2.4], Feature 2\n",
      "Exampled 141: label [6.9 3.1 5.1 2.3], Feature 2\n",
      "Exampled 142: label [5.8 2.7 5.1 1.9], Feature 2\n",
      "Exampled 143: label [6.8 3.2 5.9 2.3], Feature 2\n",
      "Exampled 144: label [6.7 3.3 5.7 2.5], Feature 2\n",
      "Exampled 145: label [6.7 3.  5.2 2.3], Feature 2\n",
      "Exampled 146: label [6.3 2.5 5.  1.9], Feature 2\n",
      "Exampled 147: label [6.5 3.  5.2 2. ], Feature 2\n",
      "Exampled 148: label [6.2 3.4 5.4 2.3], Feature 2\n",
      "Exampled 149: label [5.9 3.  5.1 1.8], Feature 2\n"
     ]
    }
   ],
   "source": [
    "#Let's just print out the entire dataset for clarity, for the sake of understanding\n",
    "for i in range(len(iris.target)):\n",
    "    print(\"Exampled %d: label %s, Feature %s\" %(i, iris.data[i], iris.target[i]))"
   ]
  },
  {
   "cell_type": "code",
   "execution_count": 18,
   "metadata": {},
   "outputs": [],
   "source": [
    "#After importing the data, split data into train test split\n",
    "#Since the data is so well organized we know where a case with setosa, virgiica and vericolor are. So get one of each\n",
    "#As the test data \n",
    "import numpy as np \n",
    "test_idx = [0,50,100]\n"
   ]
  },
  {
   "cell_type": "code",
   "execution_count": 19,
   "metadata": {},
   "outputs": [],
   "source": [
    "#training data \n",
    "train_target  = np.delete(iris.target, test_idx)\n",
    "train_data = np.delete(iris.data, test_idx, axis= 0)\n"
   ]
  },
  {
   "cell_type": "code",
   "execution_count": 20,
   "metadata": {},
   "outputs": [],
   "source": [
    "#testing data \n",
    "test_target = iris.target[test_idx]\n",
    "test_data = iris.data[test_idx]"
   ]
  },
  {
   "cell_type": "code",
   "execution_count": 21,
   "metadata": {},
   "outputs": [
    {
     "data": {
      "text/plain": [
       "DecisionTreeClassifier(class_weight=None, criterion='gini', max_depth=None,\n",
       "            max_features=None, max_leaf_nodes=None,\n",
       "            min_impurity_decrease=0.0, min_impurity_split=None,\n",
       "            min_samples_leaf=1, min_samples_split=2,\n",
       "            min_weight_fraction_leaf=0.0, presort=False, random_state=None,\n",
       "            splitter='best')"
      ]
     },
     "execution_count": 21,
     "metadata": {},
     "output_type": "execute_result"
    }
   ],
   "source": [
    "#Create a decision tree classifier and train it on the training data\n",
    "clf = tree.DecisionTreeClassifier()\n",
    "clf.fit(train_data, train_target)"
   ]
  },
  {
   "cell_type": "code",
   "execution_count": 22,
   "metadata": {},
   "outputs": [
    {
     "name": "stdout",
     "output_type": "stream",
     "text": [
      "[0 1 2]\n"
     ]
    }
   ],
   "source": [
    "print(test_target)"
   ]
  },
  {
   "cell_type": "code",
   "execution_count": 25,
   "metadata": {},
   "outputs": [
    {
     "name": "stdout",
     "output_type": "stream",
     "text": [
      "[0 1 2]\n"
     ]
    }
   ],
   "source": [
    "print(clf.predict(test_data))"
   ]
  },
  {
   "cell_type": "code",
   "execution_count": 26,
   "metadata": {},
   "outputs": [],
   "source": [
    "#Feature Engineering Best Practices"
   ]
  },
  {
   "cell_type": "code",
   "execution_count": 27,
   "metadata": {},
   "outputs": [],
   "source": [
    "import numpy as np\n",
    "import matplotlib.pyplot as plt"
   ]
  },
  {
   "cell_type": "code",
   "execution_count": 28,
   "metadata": {},
   "outputs": [],
   "source": [
    "greyhounds = 500\n",
    "labs =500"
   ]
  },
  {
   "cell_type": "code",
   "execution_count": 34,
   "metadata": {},
   "outputs": [],
   "source": [
    "grey_height = 28 + 4*np.random.randn(greyhounds)\n",
    "lab_height = 24 + 4*np.random.randn(labs)"
   ]
  },
  {
   "cell_type": "code",
   "execution_count": 33,
   "metadata": {},
   "outputs": [
    {
     "data": {
      "text/plain": [
       "-2.514598862336135"
      ]
     },
     "execution_count": 33,
     "metadata": {},
     "output_type": "execute_result"
    }
   ],
   "source": [
    "min(np.random.randn(greyhounds))"
   ]
  },
  {
   "cell_type": "code",
   "execution_count": 35,
   "metadata": {},
   "outputs": [
    {
     "data": {
      "text/plain": [
       "([array([  0.,  10.,  31.,  81., 129., 141.,  76.,  27.,   3.,   2.]),\n",
       "  array([ 10.,  59., 132., 226., 244., 198.,  96.,  30.,   3.,   2.])],\n",
       " array([13.33359836, 16.24762882, 19.16165928, 22.07568975, 24.98972021,\n",
       "        27.90375068, 30.81778114, 33.73181161, 36.64584207, 39.55987253,\n",
       "        42.473903  ]),\n",
       " <a list of 2 Lists of Patches objects>)"
      ]
     },
     "execution_count": 35,
     "metadata": {},
     "output_type": "execute_result"
    },
    {
     "data": {
      "image/png": "[encoded data removed]",
      "text/plain": [
       "<matplotlib.figure.Figure at 0x113483048>"
      ]
     },
     "metadata": {},
     "output_type": "display_data"
    }
   ],
   "source": [
    "plt.hist([grey_height, lab_height], stacked=True, color=['r','b'])"
   ]
  },
  {
   "cell_type": "code",
   "execution_count": 36,
   "metadata": {},
   "outputs": [],
   "source": [
    "plt.show()"
   ]
  },
  {
   "cell_type": "code",
   "execution_count": 37,
   "metadata": {},
   "outputs": [],
   "source": [
    "#import a dataset \n",
    "X = iris.data\n",
    "y = iris.target"
   ]
  },
  {
   "cell_type": "code",
   "execution_count": 38,
   "metadata": {},
   "outputs": [
    {
     "name": "stderr",
     "output_type": "stream",
     "text": [
      "/anaconda3/lib/python3.6/site-packages/sklearn/cross_validation.py:41: DeprecationWarning: This module was deprecated in version 0.18 in favor of the model_selection module into which all the refactored classes and functions are moved. Also note that the interface of the new CV iterators are different from that of this module. This module will be removed in 0.20.\n",
      "  \"This module will be removed in 0.20.\", DeprecationWarning)\n"
     ]
    }
   ],
   "source": [
    "from sklearn.cross_validation import train_test_split\n",
    "X_train, X_test, y_train, y_test = train_test_split(X,y, test_size=5)"
   ]
  },
  {
   "cell_type": "code",
   "execution_count": 39,
   "metadata": {},
   "outputs": [],
   "source": [
    "from sklearn import tree\n",
    "my_classifier = tree.DecisionTreeClassifier()"
   ]
  },
  {
   "cell_type": "code",
   "execution_count": 40,
   "metadata": {},
   "outputs": [
    {
     "data": {
      "text/plain": [
       "DecisionTreeClassifier(class_weight=None, criterion='gini', max_depth=None,\n",
       "            max_features=None, max_leaf_nodes=None,\n",
       "            min_impurity_decrease=0.0, min_impurity_split=None,\n",
       "            min_samples_leaf=1, min_samples_split=2,\n",
       "            min_weight_fraction_leaf=0.0, presort=False, random_state=None,\n",
       "            splitter='best')"
      ]
     },
     "execution_count": 40,
     "metadata": {},
     "output_type": "execute_result"
    }
   ],
   "source": [
    "my_classifier.fit(X_train, y_train)"
   ]
  },
  {
   "cell_type": "code",
   "execution_count": 41,
   "metadata": {},
   "outputs": [],
   "source": [
    "predictions = my_classifier.predict(X_test)"
   ]
  },
  {
   "cell_type": "code",
   "execution_count": 42,
   "metadata": {},
   "outputs": [
    {
     "name": "stdout",
     "output_type": "stream",
     "text": [
      "[0 2 2 0 0]\n"
     ]
    }
   ],
   "source": [
    "print(predictions)"
   ]
  },
  {
   "cell_type": "code",
   "execution_count": null,
   "metadata": {},
   "outputs": [],
   "source": []
  }
 ],
 "metadata": {
  "kernelspec": {
   "display_name": "Python 3",
   "language": "python",
   "name": "python3"
  },
  "language_info": {
   "codemirror_mode": {
    "name": "ipython",
    "version": 3
   },
   "file_extension": ".py",
   "mimetype": "text/x-python",
   "name": "python",
   "nbconvert_exporter": "python",
   "pygments_lexer": "ipython3",
   "version": "3.6.4"
  }
 },
 "nbformat": 4,
 "nbformat_minor": 2
}
